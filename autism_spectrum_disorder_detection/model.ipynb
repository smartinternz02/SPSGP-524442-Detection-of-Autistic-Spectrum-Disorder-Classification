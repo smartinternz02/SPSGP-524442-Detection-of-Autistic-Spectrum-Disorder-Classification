{
 "cells": [
  {
   "cell_type": "markdown",
   "metadata": {
    "_uuid": "81534723ea4f827e0a57e577af85b2138a89ef62"
   },
   "source": [
    "### Detection Of Autistic Spectrum Disorder: Classification"
   ]
  },
  {
   "cell_type": "markdown",
   "metadata": {
    "_uuid": "d6904b3179be77d43365397d5b58b5521bcbbcc6"
   },
   "source": [
    "### About ASD"
   ]
  },
  {
   "cell_type": "markdown",
   "metadata": {
    "_uuid": "85103536e6349dc50c63fb36d4e06b74732ce5c1"
   },
   "source": [
    "Autism spectrum disorder (ASD) is a chronic condition that will impact a person's behavior and how he socilaize with others. ASD appears in the early childhood but unfortunately most children diagnosed with ASD until school. Early diagnosis of ASD is significant for a family and also for the children. In this study area, we would like to know how individual characteristics have influence on ASD detection and whether the given individual characteristics are able to effectively predict the ASD cases."
   ]
  },
  {
   "cell_type": "code",
   "execution_count": 1,
   "metadata": {
    "_uuid": "6b0494e07bcb84a5373d1b9065c7fa61ebce5975"
   },
   "outputs": [],
   "source": [
    "import numpy as np\n",
    "import pandas as pd\n",
    "import seaborn as sns\n",
    "import matplotlib.pyplot as plt\n",
    "from sklearn.linear_model import LogisticRegression\n",
    "from sklearn.metrics import accuracy_score, roc_auc_score, classification_report, roc_curve\n",
    "from sklearn.metrics import confusion_matrix\n",
    "from sklearn.model_selection import train_test_split, cross_val_score, StratifiedKFold, cross_val_predict\n",
    "from sklearn.preprocessing import StandardScaler, LabelEncoder, LabelBinarizer"
   ]
  },
  {
   "cell_type": "markdown",
   "metadata": {
    "_uuid": "d7647b18545d041ec1004d7a3767e5aac61b0a67"
   },
   "source": [
    "### EDA"
   ]
  },
  {
   "cell_type": "code",
   "execution_count": 2,
   "metadata": {
    "_uuid": "8c707cd0536ef8d6ff4f9ee610f36e48333072c0"
   },
   "outputs": [],
   "source": [
    "df = pd.read_csv('Autism_Data.csv', na_values='?',)"
   ]
  },
  {
   "cell_type": "code",
   "execution_count": 3,
   "metadata": {
    "_uuid": "0d60aec3d0205ef110daeca67a0694cf27301d95"
   },
   "outputs": [],
   "source": [
    "data = df.copy()"
   ]
  },
  {
   "cell_type": "code",
   "execution_count": 5,
   "metadata": {
    "_uuid": "28a7884576ac90d5dedb841d3256f68367a0504a"
   },
   "outputs": [
    {
     "data": {
      "text/plain": [
       "(705, 21)"
      ]
     },
     "execution_count": 5,
     "metadata": {},
     "output_type": "execute_result"
    }
   ],
   "source": [
    "data.shape"
   ]
  },
  {
   "cell_type": "code",
   "execution_count": 6,
   "metadata": {
    "_uuid": "aee81ac7a7045719929bea0c3ea03e9bc1208731"
   },
   "outputs": [
    {
     "data": {
      "text/html": [
       "<div>\n",
       "<style scoped>\n",
       "    .dataframe tbody tr th:only-of-type {\n",
       "        vertical-align: middle;\n",
       "    }\n",
       "\n",
       "    .dataframe tbody tr th {\n",
       "        vertical-align: top;\n",
       "    }\n",
       "\n",
       "    .dataframe thead th {\n",
       "        text-align: right;\n",
       "    }\n",
       "</style>\n",
       "<table border=\"1\" class=\"dataframe\">\n",
       "  <thead>\n",
       "    <tr style=\"text-align: right;\">\n",
       "      <th></th>\n",
       "      <th>A1_Score</th>\n",
       "      <th>A2_Score</th>\n",
       "      <th>A3_Score</th>\n",
       "      <th>A4_Score</th>\n",
       "      <th>A5_Score</th>\n",
       "      <th>A6_Score</th>\n",
       "      <th>A7_Score</th>\n",
       "      <th>A8_Score</th>\n",
       "      <th>A9_Score</th>\n",
       "      <th>A10_Score</th>\n",
       "      <th>...</th>\n",
       "      <th>gender</th>\n",
       "      <th>ethnicity</th>\n",
       "      <th>jaundice</th>\n",
       "      <th>autism</th>\n",
       "      <th>country_of_res</th>\n",
       "      <th>used_app_before</th>\n",
       "      <th>result</th>\n",
       "      <th>age_desc</th>\n",
       "      <th>relation</th>\n",
       "      <th>ASD</th>\n",
       "    </tr>\n",
       "  </thead>\n",
       "  <tbody>\n",
       "    <tr>\n",
       "      <th>0</th>\n",
       "      <td>NaN</td>\n",
       "      <td>NaN</td>\n",
       "      <td>NaN</td>\n",
       "      <td>NaN</td>\n",
       "      <td>NaN</td>\n",
       "      <td>NaN</td>\n",
       "      <td>NaN</td>\n",
       "      <td>NaN</td>\n",
       "      <td>NaN</td>\n",
       "      <td>NaN</td>\n",
       "      <td>...</td>\n",
       "      <td>NaN</td>\n",
       "      <td>NaN</td>\n",
       "      <td>NaN</td>\n",
       "      <td>NaN</td>\n",
       "      <td>NaN</td>\n",
       "      <td>NaN</td>\n",
       "      <td>NaN</td>\n",
       "      <td>NaN</td>\n",
       "      <td>NaN</td>\n",
       "      <td>NaN</td>\n",
       "    </tr>\n",
       "    <tr>\n",
       "      <th>1</th>\n",
       "      <td>1.0</td>\n",
       "      <td>1.0</td>\n",
       "      <td>1.0</td>\n",
       "      <td>1.0</td>\n",
       "      <td>0.0</td>\n",
       "      <td>0.0</td>\n",
       "      <td>1.0</td>\n",
       "      <td>1.0</td>\n",
       "      <td>0.0</td>\n",
       "      <td>0.0</td>\n",
       "      <td>...</td>\n",
       "      <td>f</td>\n",
       "      <td>White-European</td>\n",
       "      <td>no</td>\n",
       "      <td>no</td>\n",
       "      <td>United States'</td>\n",
       "      <td>no</td>\n",
       "      <td>6.0</td>\n",
       "      <td>18 and more'</td>\n",
       "      <td>Self</td>\n",
       "      <td>NO</td>\n",
       "    </tr>\n",
       "    <tr>\n",
       "      <th>2</th>\n",
       "      <td>1.0</td>\n",
       "      <td>1.0</td>\n",
       "      <td>0.0</td>\n",
       "      <td>1.0</td>\n",
       "      <td>0.0</td>\n",
       "      <td>0.0</td>\n",
       "      <td>0.0</td>\n",
       "      <td>1.0</td>\n",
       "      <td>0.0</td>\n",
       "      <td>1.0</td>\n",
       "      <td>...</td>\n",
       "      <td>m</td>\n",
       "      <td>Latino</td>\n",
       "      <td>no</td>\n",
       "      <td>yes</td>\n",
       "      <td>Brazil</td>\n",
       "      <td>no</td>\n",
       "      <td>5.0</td>\n",
       "      <td>'18 and more'</td>\n",
       "      <td>Self</td>\n",
       "      <td>NO</td>\n",
       "    </tr>\n",
       "    <tr>\n",
       "      <th>3</th>\n",
       "      <td>1.0</td>\n",
       "      <td>1.0</td>\n",
       "      <td>0.0</td>\n",
       "      <td>1.0</td>\n",
       "      <td>1.0</td>\n",
       "      <td>0.0</td>\n",
       "      <td>1.0</td>\n",
       "      <td>1.0</td>\n",
       "      <td>1.0</td>\n",
       "      <td>1.0</td>\n",
       "      <td>...</td>\n",
       "      <td>m</td>\n",
       "      <td>Latino</td>\n",
       "      <td>yes</td>\n",
       "      <td>yes</td>\n",
       "      <td>Spain</td>\n",
       "      <td>no</td>\n",
       "      <td>8.0</td>\n",
       "      <td>'18 and more'</td>\n",
       "      <td>Parent</td>\n",
       "      <td>YES</td>\n",
       "    </tr>\n",
       "    <tr>\n",
       "      <th>4</th>\n",
       "      <td>1.0</td>\n",
       "      <td>1.0</td>\n",
       "      <td>0.0</td>\n",
       "      <td>1.0</td>\n",
       "      <td>0.0</td>\n",
       "      <td>0.0</td>\n",
       "      <td>1.0</td>\n",
       "      <td>1.0</td>\n",
       "      <td>0.0</td>\n",
       "      <td>1.0</td>\n",
       "      <td>...</td>\n",
       "      <td>f</td>\n",
       "      <td>White-European</td>\n",
       "      <td>no</td>\n",
       "      <td>yes</td>\n",
       "      <td>'United States'</td>\n",
       "      <td>no</td>\n",
       "      <td>6.0</td>\n",
       "      <td>'18 and more'</td>\n",
       "      <td>Self</td>\n",
       "      <td>NO</td>\n",
       "    </tr>\n",
       "  </tbody>\n",
       "</table>\n",
       "<p>5 rows × 21 columns</p>\n",
       "</div>"
      ],
      "text/plain": [
       "   A1_Score  A2_Score  A3_Score  A4_Score  A5_Score  A6_Score  A7_Score  \\\n",
       "0       NaN       NaN       NaN       NaN       NaN       NaN       NaN   \n",
       "1       1.0       1.0       1.0       1.0       0.0       0.0       1.0   \n",
       "2       1.0       1.0       0.0       1.0       0.0       0.0       0.0   \n",
       "3       1.0       1.0       0.0       1.0       1.0       0.0       1.0   \n",
       "4       1.0       1.0       0.0       1.0       0.0       0.0       1.0   \n",
       "\n",
       "   A8_Score  A9_Score  A10_Score  ...  gender       ethnicity jaundice autism  \\\n",
       "0       NaN       NaN        NaN  ...     NaN             NaN      NaN    NaN   \n",
       "1       1.0       0.0        0.0  ...       f  White-European       no     no   \n",
       "2       1.0       0.0        1.0  ...       m          Latino       no    yes   \n",
       "3       1.0       1.0        1.0  ...       m          Latino      yes    yes   \n",
       "4       1.0       0.0        1.0  ...       f  White-European       no    yes   \n",
       "\n",
       "    country_of_res used_app_before result       age_desc relation  ASD  \n",
       "0              NaN             NaN    NaN            NaN      NaN  NaN  \n",
       "1   United States'              no    6.0   18 and more'     Self   NO  \n",
       "2           Brazil              no    5.0  '18 and more'     Self   NO  \n",
       "3            Spain              no    8.0  '18 and more'   Parent  YES  \n",
       "4  'United States'              no    6.0  '18 and more'     Self   NO  \n",
       "\n",
       "[5 rows x 21 columns]"
      ]
     },
     "execution_count": 6,
     "metadata": {},
     "output_type": "execute_result"
    }
   ],
   "source": [
    "data.head()"
   ]
  },
  {
   "cell_type": "markdown",
   "metadata": {
    "_uuid": "466df875fdbb305462048cd5cbbe6854210dfcff"
   },
   "source": [
    "Dataset contains ten behavioural features (AQ-10-Adult) plus ten individuals characteristics that have proved to be effective in detecting the ASD cases from controls in behaviour science."
   ]
  },
  {
   "cell_type": "code",
   "execution_count": 7,
   "metadata": {
    "_uuid": "e331ebd04d280d2b3b2ca27cb5db9ba33afb7a6e"
   },
   "outputs": [
    {
     "data": {
      "text/html": [
       "<div>\n",
       "<style scoped>\n",
       "    .dataframe tbody tr th:only-of-type {\n",
       "        vertical-align: middle;\n",
       "    }\n",
       "\n",
       "    .dataframe tbody tr th {\n",
       "        vertical-align: top;\n",
       "    }\n",
       "\n",
       "    .dataframe thead th {\n",
       "        text-align: right;\n",
       "    }\n",
       "</style>\n",
       "<table border=\"1\" class=\"dataframe\">\n",
       "  <thead>\n",
       "    <tr style=\"text-align: right;\">\n",
       "      <th></th>\n",
       "      <th>A1_Score</th>\n",
       "      <th>A2_Score</th>\n",
       "      <th>A3_Score</th>\n",
       "      <th>A4_Score</th>\n",
       "      <th>A5_Score</th>\n",
       "      <th>A6_Score</th>\n",
       "      <th>A7_Score</th>\n",
       "      <th>A8_Score</th>\n",
       "      <th>A9_Score</th>\n",
       "      <th>A10_Score</th>\n",
       "      <th>age</th>\n",
       "      <th>result</th>\n",
       "    </tr>\n",
       "  </thead>\n",
       "  <tbody>\n",
       "    <tr>\n",
       "      <th>count</th>\n",
       "      <td>704.000000</td>\n",
       "      <td>704.000000</td>\n",
       "      <td>704.000000</td>\n",
       "      <td>704.000000</td>\n",
       "      <td>704.000000</td>\n",
       "      <td>704.000000</td>\n",
       "      <td>704.000000</td>\n",
       "      <td>704.000000</td>\n",
       "      <td>704.000000</td>\n",
       "      <td>704.000000</td>\n",
       "      <td>702.000000</td>\n",
       "      <td>704.000000</td>\n",
       "    </tr>\n",
       "    <tr>\n",
       "      <th>mean</th>\n",
       "      <td>0.721591</td>\n",
       "      <td>0.453125</td>\n",
       "      <td>0.457386</td>\n",
       "      <td>0.495739</td>\n",
       "      <td>0.498580</td>\n",
       "      <td>0.284091</td>\n",
       "      <td>0.417614</td>\n",
       "      <td>0.649148</td>\n",
       "      <td>0.323864</td>\n",
       "      <td>0.573864</td>\n",
       "      <td>29.698006</td>\n",
       "      <td>4.875000</td>\n",
       "    </tr>\n",
       "    <tr>\n",
       "      <th>std</th>\n",
       "      <td>0.448535</td>\n",
       "      <td>0.498152</td>\n",
       "      <td>0.498535</td>\n",
       "      <td>0.500337</td>\n",
       "      <td>0.500353</td>\n",
       "      <td>0.451301</td>\n",
       "      <td>0.493516</td>\n",
       "      <td>0.477576</td>\n",
       "      <td>0.468281</td>\n",
       "      <td>0.494866</td>\n",
       "      <td>16.507465</td>\n",
       "      <td>2.501493</td>\n",
       "    </tr>\n",
       "    <tr>\n",
       "      <th>min</th>\n",
       "      <td>0.000000</td>\n",
       "      <td>0.000000</td>\n",
       "      <td>0.000000</td>\n",
       "      <td>0.000000</td>\n",
       "      <td>0.000000</td>\n",
       "      <td>0.000000</td>\n",
       "      <td>0.000000</td>\n",
       "      <td>0.000000</td>\n",
       "      <td>0.000000</td>\n",
       "      <td>0.000000</td>\n",
       "      <td>17.000000</td>\n",
       "      <td>0.000000</td>\n",
       "    </tr>\n",
       "    <tr>\n",
       "      <th>25%</th>\n",
       "      <td>0.000000</td>\n",
       "      <td>0.000000</td>\n",
       "      <td>0.000000</td>\n",
       "      <td>0.000000</td>\n",
       "      <td>0.000000</td>\n",
       "      <td>0.000000</td>\n",
       "      <td>0.000000</td>\n",
       "      <td>0.000000</td>\n",
       "      <td>0.000000</td>\n",
       "      <td>0.000000</td>\n",
       "      <td>21.000000</td>\n",
       "      <td>3.000000</td>\n",
       "    </tr>\n",
       "    <tr>\n",
       "      <th>50%</th>\n",
       "      <td>1.000000</td>\n",
       "      <td>0.000000</td>\n",
       "      <td>0.000000</td>\n",
       "      <td>0.000000</td>\n",
       "      <td>0.000000</td>\n",
       "      <td>0.000000</td>\n",
       "      <td>0.000000</td>\n",
       "      <td>1.000000</td>\n",
       "      <td>0.000000</td>\n",
       "      <td>1.000000</td>\n",
       "      <td>27.000000</td>\n",
       "      <td>4.000000</td>\n",
       "    </tr>\n",
       "    <tr>\n",
       "      <th>75%</th>\n",
       "      <td>1.000000</td>\n",
       "      <td>1.000000</td>\n",
       "      <td>1.000000</td>\n",
       "      <td>1.000000</td>\n",
       "      <td>1.000000</td>\n",
       "      <td>1.000000</td>\n",
       "      <td>1.000000</td>\n",
       "      <td>1.000000</td>\n",
       "      <td>1.000000</td>\n",
       "      <td>1.000000</td>\n",
       "      <td>35.000000</td>\n",
       "      <td>7.000000</td>\n",
       "    </tr>\n",
       "    <tr>\n",
       "      <th>max</th>\n",
       "      <td>1.000000</td>\n",
       "      <td>1.000000</td>\n",
       "      <td>1.000000</td>\n",
       "      <td>1.000000</td>\n",
       "      <td>1.000000</td>\n",
       "      <td>1.000000</td>\n",
       "      <td>1.000000</td>\n",
       "      <td>1.000000</td>\n",
       "      <td>1.000000</td>\n",
       "      <td>1.000000</td>\n",
       "      <td>383.000000</td>\n",
       "      <td>10.000000</td>\n",
       "    </tr>\n",
       "  </tbody>\n",
       "</table>\n",
       "</div>"
      ],
      "text/plain": [
       "         A1_Score    A2_Score    A3_Score    A4_Score    A5_Score    A6_Score  \\\n",
       "count  704.000000  704.000000  704.000000  704.000000  704.000000  704.000000   \n",
       "mean     0.721591    0.453125    0.457386    0.495739    0.498580    0.284091   \n",
       "std      0.448535    0.498152    0.498535    0.500337    0.500353    0.451301   \n",
       "min      0.000000    0.000000    0.000000    0.000000    0.000000    0.000000   \n",
       "25%      0.000000    0.000000    0.000000    0.000000    0.000000    0.000000   \n",
       "50%      1.000000    0.000000    0.000000    0.000000    0.000000    0.000000   \n",
       "75%      1.000000    1.000000    1.000000    1.000000    1.000000    1.000000   \n",
       "max      1.000000    1.000000    1.000000    1.000000    1.000000    1.000000   \n",
       "\n",
       "         A7_Score    A8_Score    A9_Score   A10_Score         age      result  \n",
       "count  704.000000  704.000000  704.000000  704.000000  702.000000  704.000000  \n",
       "mean     0.417614    0.649148    0.323864    0.573864   29.698006    4.875000  \n",
       "std      0.493516    0.477576    0.468281    0.494866   16.507465    2.501493  \n",
       "min      0.000000    0.000000    0.000000    0.000000   17.000000    0.000000  \n",
       "25%      0.000000    0.000000    0.000000    0.000000   21.000000    3.000000  \n",
       "50%      0.000000    1.000000    0.000000    1.000000   27.000000    4.000000  \n",
       "75%      1.000000    1.000000    1.000000    1.000000   35.000000    7.000000  \n",
       "max      1.000000    1.000000    1.000000    1.000000  383.000000   10.000000  "
      ]
     },
     "execution_count": 7,
     "metadata": {},
     "output_type": "execute_result"
    }
   ],
   "source": [
    "data.describe()"
   ]
  },
  {
   "cell_type": "code",
   "execution_count": 8,
   "metadata": {
    "_uuid": "98b101dab80838e621f0fef32119a06d6b761c44"
   },
   "outputs": [
    {
     "name": "stdout",
     "output_type": "stream",
     "text": [
      "<class 'pandas.core.frame.DataFrame'>\n",
      "RangeIndex: 705 entries, 0 to 704\n",
      "Data columns (total 21 columns):\n",
      " #   Column           Non-Null Count  Dtype  \n",
      "---  ------           --------------  -----  \n",
      " 0   A1_Score         704 non-null    float64\n",
      " 1   A2_Score         704 non-null    float64\n",
      " 2   A3_Score         704 non-null    float64\n",
      " 3   A4_Score         704 non-null    float64\n",
      " 4   A5_Score         704 non-null    float64\n",
      " 5   A6_Score         704 non-null    float64\n",
      " 6   A7_Score         704 non-null    float64\n",
      " 7   A8_Score         704 non-null    float64\n",
      " 8   A9_Score         704 non-null    float64\n",
      " 9   A10_Score        704 non-null    float64\n",
      " 10  age              702 non-null    float64\n",
      " 11  gender           704 non-null    object \n",
      " 12  ethnicity        609 non-null    object \n",
      " 13  jaundice         704 non-null    object \n",
      " 14  autism           704 non-null    object \n",
      " 15  country_of_res   704 non-null    object \n",
      " 16  used_app_before  704 non-null    object \n",
      " 17  result           704 non-null    float64\n",
      " 18  age_desc         704 non-null    object \n",
      " 19  relation         609 non-null    object \n",
      " 20  ASD              704 non-null    object \n",
      "dtypes: float64(12), object(9)\n",
      "memory usage: 115.8+ KB\n"
     ]
    }
   ],
   "source": [
    "data.info()"
   ]
  },
  {
   "cell_type": "code",
   "execution_count": 9,
   "metadata": {
    "_uuid": "8bd90b2e4d8f3a783fab6898b93cb053aec929f1"
   },
   "outputs": [
    {
     "data": {
      "text/plain": [
       "float64    12\n",
       "object      9\n",
       "dtype: int64"
      ]
     },
     "execution_count": 9,
     "metadata": {},
     "output_type": "execute_result"
    }
   ],
   "source": [
    "data.dtypes.value_counts()"
   ]
  },
  {
   "cell_type": "markdown",
   "metadata": {
    "_uuid": "d540231ef070adf8a337d8ecdca5ec5bd5e2112d"
   },
   "source": [
    "Dataset has **704** examples and **21** features. 11 of them are ints, 9 are objects and 1 is float."
   ]
  },
  {
   "cell_type": "markdown",
   "metadata": {
    "_uuid": "2d21b848c25cb476ba2dc9235ce63ee51e8df169"
   },
   "source": [
    "### MISSING VALUES"
   ]
  },
  {
   "cell_type": "code",
   "execution_count": 11,
   "metadata": {
    "_uuid": "5706923c0677dc620e19b0e1646d5f7a07244608"
   },
   "outputs": [
    {
     "data": {
      "text/html": [
       "<div>\n",
       "<style scoped>\n",
       "    .dataframe tbody tr th:only-of-type {\n",
       "        vertical-align: middle;\n",
       "    }\n",
       "\n",
       "    .dataframe tbody tr th {\n",
       "        vertical-align: top;\n",
       "    }\n",
       "\n",
       "    .dataframe thead th {\n",
       "        text-align: right;\n",
       "    }\n",
       "</style>\n",
       "<table border=\"1\" class=\"dataframe\">\n",
       "  <thead>\n",
       "    <tr style=\"text-align: right;\">\n",
       "      <th></th>\n",
       "      <th>Total</th>\n",
       "      <th>Percent</th>\n",
       "    </tr>\n",
       "  </thead>\n",
       "  <tbody>\n",
       "    <tr>\n",
       "      <th>relation</th>\n",
       "      <td>96</td>\n",
       "      <td>13.617021</td>\n",
       "    </tr>\n",
       "    <tr>\n",
       "      <th>ethnicity</th>\n",
       "      <td>96</td>\n",
       "      <td>13.617021</td>\n",
       "    </tr>\n",
       "    <tr>\n",
       "      <th>age</th>\n",
       "      <td>3</td>\n",
       "      <td>0.425532</td>\n",
       "    </tr>\n",
       "    <tr>\n",
       "      <th>gender</th>\n",
       "      <td>1</td>\n",
       "      <td>0.141844</td>\n",
       "    </tr>\n",
       "    <tr>\n",
       "      <th>age_desc</th>\n",
       "      <td>1</td>\n",
       "      <td>0.141844</td>\n",
       "    </tr>\n",
       "  </tbody>\n",
       "</table>\n",
       "</div>"
      ],
      "text/plain": [
       "           Total    Percent\n",
       "relation      96  13.617021\n",
       "ethnicity     96  13.617021\n",
       "age            3   0.425532\n",
       "gender         1   0.141844\n",
       "age_desc       1   0.141844"
      ]
     },
     "execution_count": 11,
     "metadata": {},
     "output_type": "execute_result"
    }
   ],
   "source": [
    "total_missing_data = data.isnull().sum().sort_values(ascending=False)\n",
    "\n",
    "percent_of_missing_data = (data.isnull().sum()/data.isnull().count()*100).sort_values(ascending=False)\n",
    "\n",
    "missing_data = pd.concat(\n",
    "    [\n",
    "        total_missing_data, \n",
    "        percent_of_missing_data\n",
    "    ], \n",
    "    axis=1, \n",
    "    keys=['Total', 'Percent']\n",
    ")\n",
    "\n",
    "missing_data.head()"
   ]
  },
  {
   "cell_type": "markdown",
   "metadata": {
    "_uuid": "f28d905ceb5eb170ed4ff50e658b918abda69835"
   },
   "source": [
    "### \"RESULT\" COLUMN "
   ]
  },
  {
   "cell_type": "code",
   "execution_count": 12,
   "metadata": {
    "_uuid": "304aaedc23f9427d388bfe97311b38efbdd7631b"
   },
   "outputs": [
    {
     "data": {
      "text/plain": [
       "0    0.0\n",
       "1    6.0\n",
       "2    5.0\n",
       "3    8.0\n",
       "4    6.0\n",
       "5    2.0\n",
       "6    9.0\n",
       "7    2.0\n",
       "8    5.0\n",
       "9    6.0\n",
       "dtype: float64"
      ]
     },
     "execution_count": 12,
     "metadata": {},
     "output_type": "execute_result"
    }
   ],
   "source": [
    "data.iloc[:, 0:10].sum(axis=1).head(10)"
   ]
  },
  {
   "cell_type": "markdown",
   "metadata": {
    "_uuid": "df14bdcd00e72728768b8862805a454420ea38bb"
   },
   "source": [
    "**result** column is a sum of all a*_score columns."
   ]
  },
  {
   "cell_type": "markdown",
   "metadata": {
    "_uuid": "6d337231c9cf611df9b2ef9ba33006fe05e16ddd"
   },
   "source": [
    "### YES-NO into 0-1"
   ]
  },
  {
   "cell_type": "code",
   "execution_count": 13,
   "metadata": {
    "_uuid": "ba0971c142e60e0b6fa2b72fd0636abe53c7c186"
   },
   "outputs": [],
   "source": [
    "data.columns = map(lambda x: x.strip().lower(), data.columns)"
   ]
  },
  {
   "cell_type": "code",
   "execution_count": 14,
   "metadata": {
    "_uuid": "f5d10d041a0dc36d1673ea3432eb6e482132e244"
   },
   "outputs": [],
   "source": [
    "data.rename(columns={'asd': 'decision_class'}, inplace=True)"
   ]
  },
  {
   "cell_type": "code",
   "execution_count": 16,
   "metadata": {
    "_uuid": "2d824b94d12b640c42d2dbfee71a9d770651caa3"
   },
   "outputs": [],
   "source": [
    "data.jaundice = data.jaundice.apply(lambda x: 0 if x == 'no' else 1)"
   ]
  },
  {
   "cell_type": "code",
   "execution_count": 17,
   "metadata": {
    "_uuid": "fa0f6f2471eb6d3595aabafe6e79763a6d39d8d4"
   },
   "outputs": [],
   "source": [
    "data.autism = data.autism.apply(lambda x: 0 if x == 'no' else 1)"
   ]
  },
  {
   "cell_type": "code",
   "execution_count": 18,
   "metadata": {
    "_uuid": "f7c682bdcaca966bfe714e94b013e82701d7b2f2"
   },
   "outputs": [],
   "source": [
    "data.used_app_before = data.used_app_before.apply(lambda x: 0 if x == 'no' else 1)"
   ]
  },
  {
   "cell_type": "code",
   "execution_count": 19,
   "metadata": {
    "_uuid": "4f8422e8bac04609de6126b238627c9758c4eb16"
   },
   "outputs": [],
   "source": [
    "data.decision_class = data.decision_class.apply(lambda x: 0 if x == 'NO' else 1)"
   ]
  },
  {
   "cell_type": "markdown",
   "metadata": {
    "_uuid": "213b6d7285ecbd73b13d8024c62b84c83a3c8e60"
   },
   "source": [
    "### GENDER M-F to 0-1"
   ]
  },
  {
   "cell_type": "code",
   "execution_count": 20,
   "metadata": {
    "_uuid": "b34ede3e102aba86c2e697a4bdb92ce4f26254f5"
   },
   "outputs": [],
   "source": [
    "le = LabelEncoder()\n",
    "\n",
    "data.gender = le.fit_transform(data.gender) "
   ]
  },
  {
   "cell_type": "markdown",
   "metadata": {
    "_uuid": "76a469868f8ca167a64e1dd55303aeccff3803b4"
   },
   "source": [
    "#### STRING VALUES CLEANING"
   ]
  },
  {
   "cell_type": "code",
   "execution_count": 21,
   "metadata": {
    "_uuid": "a793c863d5b9d054c8d0aad187a0a671dc547347"
   },
   "outputs": [],
   "source": [
    "data.country_of_res = data.country_of_res.astype('str')\n",
    "data.country_of_res = data.country_of_res.str.lower()\n",
    "data.country_of_res = data.country_of_res.str.replace(\"'\", \"\")\n",
    "data.country_of_res = data.country_of_res.str.strip()"
   ]
  },
  {
   "cell_type": "code",
   "execution_count": 22,
   "metadata": {
    "_uuid": "3739e9eefa956a07ac2befe864c5ad2039013216"
   },
   "outputs": [],
   "source": [
    "data.relation = data.relation.replace(np.nan, 'unknown', regex=True)\n",
    "data.relation = data.relation.astype('str')\n",
    "data.relation = data.relation.str.lower()\n",
    "data.relation = data.relation.str.replace(\"'\", \"\")\n",
    "data.relation = data.relation.str.strip()"
   ]
  },
  {
   "cell_type": "code",
   "execution_count": 23,
   "metadata": {
    "_uuid": "91865e69104a68ee54bd498665b874c9e75d93fe"
   },
   "outputs": [],
   "source": [
    "data.ethnicity = data.ethnicity.replace(np.nan, 'unknown', regex=True)\n",
    "data.ethnicity = data.ethnicity.astype('str')\n",
    "data.ethnicity = data.ethnicity.str.lower()\n",
    "data.ethnicity = data.ethnicity.str.replace(\"'\", \"\")\n",
    "data.ethnicity = data.ethnicity.str.strip()"
   ]
  },
  {
   "cell_type": "markdown",
   "metadata": {
    "_uuid": "44b3b6c4c6292c668fa3e9d590d843d5191f6d89"
   },
   "source": [
    "#### GENDER VS DECISION CLASS"
   ]
  },
  {
   "cell_type": "code",
   "execution_count": 24,
   "metadata": {
    "_uuid": "fb32ecfd88acb38604bf6574c587686423656676"
   },
   "outputs": [
    {
     "data": {
      "text/plain": [
       "1    281\n",
       "0    234\n",
       "Name: gender, dtype: int64"
      ]
     },
     "execution_count": 24,
     "metadata": {},
     "output_type": "execute_result"
    }
   ],
   "source": [
    "data.gender[data.decision_class == 0].value_counts() # 0-female, 1-male"
   ]
  },
  {
   "cell_type": "code",
   "execution_count": 25,
   "metadata": {
    "_uuid": "4d0a470c8487e8fc07728410cb70d7d2d729d774"
   },
   "outputs": [
    {
     "data": {
      "text/plain": [
       "0    103\n",
       "1     86\n",
       "2      1\n",
       "Name: gender, dtype: int64"
      ]
     },
     "execution_count": 25,
     "metadata": {},
     "output_type": "execute_result"
    }
   ],
   "source": [
    "data.gender[data.decision_class == 1].value_counts() # 0-female, 1-male"
   ]
  },
  {
   "cell_type": "markdown",
   "metadata": {
    "_uuid": "d8227c1a895a44486b5b294418e2e7961ab0a1a7"
   },
   "source": [
    "ASD is diagnosed more commonly in **females** than males."
   ]
  },
  {
   "cell_type": "markdown",
   "metadata": {
    "_uuid": "287d0d72d226f67cf4568803d4ea080e333fe75d"
   },
   "source": [
    "#### ETHNICITY VS DECISION CLASS"
   ]
  },
  {
   "cell_type": "code",
   "execution_count": 26,
   "metadata": {
    "_uuid": "46187a0f1bb5d5d270ab42c2a65c5816ff1f8b08"
   },
   "outputs": [
    {
     "data": {
      "text/plain": [
       "white-european    124\n",
       "asian             107\n",
       "unknown            86\n",
       "middle eastern     84\n",
       "south asian        33\n",
       "black              25\n",
       "others             22\n",
       "pasifika           11\n",
       "latino             10\n",
       "hispanic            8\n",
       "turkish             5\n",
       "Name: ethnicity, dtype: int64"
      ]
     },
     "execution_count": 26,
     "metadata": {},
     "output_type": "execute_result"
    }
   ],
   "source": [
    "data.ethnicity[data.decision_class == 0].value_counts()"
   ]
  },
  {
   "cell_type": "code",
   "execution_count": 27,
   "metadata": {
    "_uuid": "731be39a009a27eac2aa4e6f48251d93e8445d31"
   },
   "outputs": [
    {
     "data": {
      "text/plain": [
       "<AxesSubplot:>"
      ]
     },
     "execution_count": 27,
     "metadata": {},
     "output_type": "execute_result"
    },
    {
     "data": {
      "image/png": "[encoded data removed]",
      "text/plain": [
       "<Figure size 432x288 with 1 Axes>"
      ]
     },
     "metadata": {
      "needs_background": "light"
     },
     "output_type": "display_data"
    }
   ],
   "source": [
    "data.ethnicity[data.decision_class == 0].value_counts().plot(kind='bar')"
   ]
  },
  {
   "cell_type": "code",
   "execution_count": 28,
   "metadata": {
    "_uuid": "36f76b6da30e821f3747e7e1c22580e3017ccc85"
   },
   "outputs": [
    {
     "data": {
      "text/plain": [
       "white-european    109\n",
       "black              18\n",
       "asian              16\n",
       "unknown            10\n",
       "latino             10\n",
       "others              9\n",
       "middle eastern      8\n",
       "hispanic            5\n",
       "south asian         3\n",
       "turkish             1\n",
       "pasifika            1\n",
       "Name: ethnicity, dtype: int64"
      ]
     },
     "execution_count": 28,
     "metadata": {},
     "output_type": "execute_result"
    }
   ],
   "source": [
    "data.ethnicity[data.decision_class == 1].value_counts()"
   ]
  },
  {
   "cell_type": "code",
   "execution_count": 29,
   "metadata": {
    "_uuid": "04f5d2fd207b08364da695ff1cc07b7a026010e6"
   },
   "outputs": [
    {
     "data": {
      "text/plain": [
       "<AxesSubplot:>"
      ]
     },
     "execution_count": 29,
     "metadata": {},
     "output_type": "execute_result"
    },
    {
     "data": {
      "image/png": "[encoded data removed]",
      "text/plain": [
       "<Figure size 432x288 with 1 Axes>"
      ]
     },
     "metadata": {
      "needs_background": "light"
     },
     "output_type": "display_data"
    }
   ],
   "source": [
    "data.ethnicity[data.decision_class == 1].value_counts().plot(kind='bar')"
   ]
  },
  {
   "cell_type": "markdown",
   "metadata": {
    "_uuid": "f2b086e11c40d700da74f2e549c7bd1e6f6d9fad"
   },
   "source": [
    "ASD prevalence is reported to be highest among **white-european** people."
   ]
  },
  {
   "cell_type": "markdown",
   "metadata": {
    "_uuid": "fc72f45eee6b045b3ad10bd9fe7f2d561a4ac483"
   },
   "source": [
    "#### RELATION VS DECISION CLASS"
   ]
  },
  {
   "cell_type": "code",
   "execution_count": 30,
   "metadata": {
    "_uuid": "1d37d52b616faa3bb53fb29f84d41849ba35882a"
   },
   "outputs": [
    {
     "data": {
      "text/plain": [
       "self                        365\n",
       "unknown                      86\n",
       "parent                       38\n",
       "relative                     19\n",
       "others                        4\n",
       "health care professional      3\n",
       "Name: relation, dtype: int64"
      ]
     },
     "execution_count": 30,
     "metadata": {},
     "output_type": "execute_result"
    }
   ],
   "source": [
    "data.relation[data.decision_class == 0].value_counts()"
   ]
  },
  {
   "cell_type": "code",
   "execution_count": 31,
   "metadata": {
    "_uuid": "6b26c0e2b824378b3f1493eddc968bcbc710e683"
   },
   "outputs": [
    {
     "data": {
      "text/plain": [
       "<AxesSubplot:>"
      ]
     },
     "execution_count": 31,
     "metadata": {},
     "output_type": "execute_result"
    },
    {
     "data": {
      "image/png": "[encoded data removed]",
      "text/plain": [
       "<Figure size 432x288 with 1 Axes>"
      ]
     },
     "metadata": {
      "needs_background": "light"
     },
     "output_type": "display_data"
    }
   ],
   "source": [
    "data.relation[data.decision_class == 0].value_counts().plot(kind='bar')"
   ]
  },
  {
   "cell_type": "code",
   "execution_count": 32,
   "metadata": {
    "_uuid": "c21fd301e713f153f2cc984812ed6263cd30d785"
   },
   "outputs": [
    {
     "data": {
      "text/plain": [
       "self                        157\n",
       "parent                       12\n",
       "unknown                      10\n",
       "relative                      9\n",
       "health care professional      1\n",
       "others                        1\n",
       "Name: relation, dtype: int64"
      ]
     },
     "execution_count": 32,
     "metadata": {},
     "output_type": "execute_result"
    }
   ],
   "source": [
    "data.relation[data.decision_class == 1].value_counts()"
   ]
  },
  {
   "cell_type": "code",
   "execution_count": 33,
   "metadata": {
    "_uuid": "1489b034e989b7257497122f492f766d57fa2ffc"
   },
   "outputs": [
    {
     "data": {
      "text/plain": [
       "<AxesSubplot:>"
      ]
     },
     "execution_count": 33,
     "metadata": {},
     "output_type": "execute_result"
    },
    {
     "data": {
      "image/png": "[encoded data removed]",
      "text/plain": [
       "<Figure size 432x288 with 1 Axes>"
      ]
     },
     "metadata": {
      "needs_background": "light"
     },
     "output_type": "display_data"
    }
   ],
   "source": [
    "data.relation[data.decision_class == 1].value_counts().plot(kind='bar')"
   ]
  },
  {
   "cell_type": "code",
   "execution_count": 34,
   "metadata": {
    "_uuid": "7b6a0062c488761718a0c416e87d3af84231fcd5"
   },
   "outputs": [
    {
     "data": {
      "text/plain": [
       "united arab emirates    79\n",
       "india                   75\n",
       "new zealand             66\n",
       "united states           60\n",
       "united kingdom          48\n",
       "jordan                  45\n",
       "australia               15\n",
       "sri lanka               14\n",
       "afghanistan             11\n",
       "iran                     7\n",
       "Name: country_of_res, dtype: int64"
      ]
     },
     "execution_count": 34,
     "metadata": {},
     "output_type": "execute_result"
    }
   ],
   "source": [
    "data.country_of_res[data.decision_class == 0].value_counts().head(10)"
   ]
  },
  {
   "cell_type": "code",
   "execution_count": 35,
   "metadata": {
    "_uuid": "cf47f95d21754191e395071eb55fe974e8ab585b"
   },
   "outputs": [
    {
     "data": {
      "text/plain": [
       "<AxesSubplot:>"
      ]
     },
     "execution_count": 35,
     "metadata": {},
     "output_type": "execute_result"
    },
    {
     "data": {
      "image/png": "[encoded data removed]",
      "text/plain": [
       "<Figure size 432x288 with 1 Axes>"
      ]
     },
     "metadata": {
      "needs_background": "light"
     },
     "output_type": "display_data"
    }
   ],
   "source": [
    "data.country_of_res[data.decision_class == 0].value_counts().head(15).plot(kind='bar')"
   ]
  },
  {
   "cell_type": "code",
   "execution_count": 36,
   "metadata": {
    "_uuid": "7d158ee68ce4d18dcde8c2ccb1812f43e44719ab"
   },
   "outputs": [
    {
     "data": {
      "text/plain": [
       "united states     53\n",
       "united kingdom    29\n",
       "new zealand       15\n",
       "australia         12\n",
       "canada            10\n",
       "india              6\n",
       "france             5\n",
       "brazil             5\n",
       "netherlands        4\n",
       "malaysia           4\n",
       "Name: country_of_res, dtype: int64"
      ]
     },
     "execution_count": 36,
     "metadata": {},
     "output_type": "execute_result"
    }
   ],
   "source": [
    "data.country_of_res[data.decision_class == 1].value_counts().head(10)"
   ]
  },
  {
   "cell_type": "code",
   "execution_count": 37,
   "metadata": {
    "_uuid": "7ce69bb026b3af30c66f41b177f74f62c7c27d4d"
   },
   "outputs": [
    {
     "data": {
      "text/plain": [
       "<AxesSubplot:>"
      ]
     },
     "execution_count": 37,
     "metadata": {},
     "output_type": "execute_result"
    },
    {
     "data": {
      "image/png": "[encoded data removed]",
      "text/plain": [
       "<Figure size 432x288 with 1 Axes>"
      ]
     },
     "metadata": {
      "needs_background": "light"
     },
     "output_type": "display_data"
    }
   ],
   "source": [
    "data.country_of_res[data.decision_class == 1].value_counts().head(15).plot(kind='bar')"
   ]
  },
  {
   "cell_type": "markdown",
   "metadata": {
    "_uuid": "dfa9f1aafb94ee3c25717a9df34ddc0ad34f069b"
   },
   "source": [
    "ASD prevalence is reported to be the highest among **USA** and **UK** citizens."
   ]
  },
  {
   "cell_type": "markdown",
   "metadata": {
    "_uuid": "2f4fad97943d8e5df33e79c014c18108ba3188eb"
   },
   "source": [
    "### LABEL BINARIZING"
   ]
  },
  {
   "cell_type": "markdown",
   "metadata": {
    "_uuid": "881e0fec42e8e1a5fa684432c546c0d0bb1a967f"
   },
   "source": [
    "#### contry_of_res"
   ]
  },
  {
   "cell_type": "code",
   "execution_count": 42,
   "metadata": {
    "_uuid": "6e2069b80a3639a92264f20fcffddd2866450d1c"
   },
   "outputs": [],
   "source": [
    "lb = LabelBinarizer()\n",
    "\n",
    "lb.fit(data.country_of_res.values)\n",
    "\n",
    "binarized_data = lb.transform(data.country_of_res.values)\n",
    "\n",
    "binarized_country_of_res_matrix_data = np.vstack(binarized_data)"
   ]
  },
  {
   "cell_type": "code",
   "execution_count": 43,
   "metadata": {
    "_uuid": "12778d973ea1af878acea979e250bb45731b07e0"
   },
   "outputs": [
    {
     "data": {
      "text/plain": [
       "(705, 68)"
      ]
     },
     "execution_count": 43,
     "metadata": {},
     "output_type": "execute_result"
    }
   ],
   "source": [
    "binarized_country_of_res_matrix_data.shape"
   ]
  },
  {
   "cell_type": "markdown",
   "metadata": {
    "_uuid": "35a49563c453a056505e9b6f16ea99289832ef31"
   },
   "source": [
    "#### relation"
   ]
  },
  {
   "cell_type": "code",
   "execution_count": 44,
   "metadata": {
    "_uuid": "f8f2a20ebadc42daeedacb313570c62e27ad8503"
   },
   "outputs": [],
   "source": [
    "lb = LabelBinarizer()\n",
    "\n",
    "lb.fit(data.relation.values)\n",
    "\n",
    "binarized_data = lb.transform(data.relation.values)\n",
    "\n",
    "binarized_result_matrix_data = np.vstack(binarized_data)"
   ]
  },
  {
   "cell_type": "code",
   "execution_count": 45,
   "metadata": {
    "_uuid": "4967dacf4f50dbce083c68c1bf42d7d30d37da18"
   },
   "outputs": [
    {
     "data": {
      "text/plain": [
       "(705, 6)"
      ]
     },
     "execution_count": 45,
     "metadata": {},
     "output_type": "execute_result"
    }
   ],
   "source": [
    "binarized_result_matrix_data.shape"
   ]
  },
  {
   "cell_type": "markdown",
   "metadata": {
    "_uuid": "296e3bb518fe35ae25057638fb7d68568ee18a43"
   },
   "source": [
    "#### ethnicity"
   ]
  },
  {
   "cell_type": "code",
   "execution_count": 46,
   "metadata": {
    "_uuid": "4591813fa9b333bd953e1611f628d799ec0702c5"
   },
   "outputs": [],
   "source": [
    "lb = LabelBinarizer()\n",
    "\n",
    "lb.fit(data.ethnicity.values)\n",
    "\n",
    "binarized_data = lb.transform(data.ethnicity.values)\n",
    "\n",
    "binarized_ethnicity_matrix_data = np.vstack(binarized_data)"
   ]
  },
  {
   "cell_type": "code",
   "execution_count": 47,
   "metadata": {
    "_uuid": "fac0d33ac494656719817a2bdfd15640f2197b78"
   },
   "outputs": [
    {
     "data": {
      "text/plain": [
       "(705, 11)"
      ]
     },
     "execution_count": 47,
     "metadata": {},
     "output_type": "execute_result"
    }
   ],
   "source": [
    "binarized_ethnicity_matrix_data.shape"
   ]
  },
  {
   "cell_type": "code",
   "execution_count": 48,
   "metadata": {
    "_uuid": "286848ecf874eaef57ae223f06af6d003393b931"
   },
   "outputs": [],
   "source": [
    "data.drop(['age_desc', 'result'], axis=1, inplace=True)"
   ]
  },
  {
   "cell_type": "markdown",
   "metadata": {
    "_uuid": "4f36957ed138e99230129b5d00177a6669382836"
   },
   "source": [
    "Dropping **age_desc** and **result** columns, because there's no such relation between other attributes.\n",
    "\n",
    "**age_desc** column represents the information whether the patient is an adult or not. Every row has the same value - \"18 and more\", so in our situation its redundant.\n",
    "\n",
    "Also, **result** column is a sum of all a*_score columns."
   ]
  },
  {
   "cell_type": "code",
   "execution_count": 49,
   "metadata": {
    "_uuid": "aed86ff31bb236191c7e628f37c56200cdb529c3"
   },
   "outputs": [
    {
     "data": {
      "text/html": [
       "<div>\n",
       "<style scoped>\n",
       "    .dataframe tbody tr th:only-of-type {\n",
       "        vertical-align: middle;\n",
       "    }\n",
       "\n",
       "    .dataframe tbody tr th {\n",
       "        vertical-align: top;\n",
       "    }\n",
       "\n",
       "    .dataframe thead th {\n",
       "        text-align: right;\n",
       "    }\n",
       "</style>\n",
       "<table border=\"1\" class=\"dataframe\">\n",
       "  <thead>\n",
       "    <tr style=\"text-align: right;\">\n",
       "      <th></th>\n",
       "      <th>a1_score</th>\n",
       "      <th>a2_score</th>\n",
       "      <th>a3_score</th>\n",
       "      <th>a4_score</th>\n",
       "      <th>a5_score</th>\n",
       "      <th>a6_score</th>\n",
       "      <th>a7_score</th>\n",
       "      <th>a8_score</th>\n",
       "      <th>a9_score</th>\n",
       "      <th>a10_score</th>\n",
       "      <th>age</th>\n",
       "      <th>gender</th>\n",
       "      <th>ethnicity</th>\n",
       "      <th>jaundice</th>\n",
       "      <th>autism</th>\n",
       "      <th>country_of_res</th>\n",
       "      <th>used_app_before</th>\n",
       "      <th>relation</th>\n",
       "      <th>decision_class</th>\n",
       "    </tr>\n",
       "  </thead>\n",
       "  <tbody>\n",
       "    <tr>\n",
       "      <th>0</th>\n",
       "      <td>NaN</td>\n",
       "      <td>NaN</td>\n",
       "      <td>NaN</td>\n",
       "      <td>NaN</td>\n",
       "      <td>NaN</td>\n",
       "      <td>NaN</td>\n",
       "      <td>NaN</td>\n",
       "      <td>NaN</td>\n",
       "      <td>NaN</td>\n",
       "      <td>NaN</td>\n",
       "      <td>NaN</td>\n",
       "      <td>2</td>\n",
       "      <td>unknown</td>\n",
       "      <td>1</td>\n",
       "      <td>1</td>\n",
       "      <td>nan</td>\n",
       "      <td>1</td>\n",
       "      <td>unknown</td>\n",
       "      <td>1</td>\n",
       "    </tr>\n",
       "    <tr>\n",
       "      <th>1</th>\n",
       "      <td>1.0</td>\n",
       "      <td>1.0</td>\n",
       "      <td>1.0</td>\n",
       "      <td>1.0</td>\n",
       "      <td>0.0</td>\n",
       "      <td>0.0</td>\n",
       "      <td>1.0</td>\n",
       "      <td>1.0</td>\n",
       "      <td>0.0</td>\n",
       "      <td>0.0</td>\n",
       "      <td>26.0</td>\n",
       "      <td>0</td>\n",
       "      <td>white-european</td>\n",
       "      <td>0</td>\n",
       "      <td>0</td>\n",
       "      <td>united states</td>\n",
       "      <td>0</td>\n",
       "      <td>self</td>\n",
       "      <td>0</td>\n",
       "    </tr>\n",
       "    <tr>\n",
       "      <th>2</th>\n",
       "      <td>1.0</td>\n",
       "      <td>1.0</td>\n",
       "      <td>0.0</td>\n",
       "      <td>1.0</td>\n",
       "      <td>0.0</td>\n",
       "      <td>0.0</td>\n",
       "      <td>0.0</td>\n",
       "      <td>1.0</td>\n",
       "      <td>0.0</td>\n",
       "      <td>1.0</td>\n",
       "      <td>24.0</td>\n",
       "      <td>1</td>\n",
       "      <td>latino</td>\n",
       "      <td>0</td>\n",
       "      <td>1</td>\n",
       "      <td>brazil</td>\n",
       "      <td>0</td>\n",
       "      <td>self</td>\n",
       "      <td>0</td>\n",
       "    </tr>\n",
       "    <tr>\n",
       "      <th>3</th>\n",
       "      <td>1.0</td>\n",
       "      <td>1.0</td>\n",
       "      <td>0.0</td>\n",
       "      <td>1.0</td>\n",
       "      <td>1.0</td>\n",
       "      <td>0.0</td>\n",
       "      <td>1.0</td>\n",
       "      <td>1.0</td>\n",
       "      <td>1.0</td>\n",
       "      <td>1.0</td>\n",
       "      <td>27.0</td>\n",
       "      <td>1</td>\n",
       "      <td>latino</td>\n",
       "      <td>1</td>\n",
       "      <td>1</td>\n",
       "      <td>spain</td>\n",
       "      <td>0</td>\n",
       "      <td>parent</td>\n",
       "      <td>1</td>\n",
       "    </tr>\n",
       "    <tr>\n",
       "      <th>4</th>\n",
       "      <td>1.0</td>\n",
       "      <td>1.0</td>\n",
       "      <td>0.0</td>\n",
       "      <td>1.0</td>\n",
       "      <td>0.0</td>\n",
       "      <td>0.0</td>\n",
       "      <td>1.0</td>\n",
       "      <td>1.0</td>\n",
       "      <td>0.0</td>\n",
       "      <td>1.0</td>\n",
       "      <td>35.0</td>\n",
       "      <td>0</td>\n",
       "      <td>white-european</td>\n",
       "      <td>0</td>\n",
       "      <td>1</td>\n",
       "      <td>united states</td>\n",
       "      <td>0</td>\n",
       "      <td>self</td>\n",
       "      <td>0</td>\n",
       "    </tr>\n",
       "  </tbody>\n",
       "</table>\n",
       "</div>"
      ],
      "text/plain": [
       "   a1_score  a2_score  a3_score  a4_score  a5_score  a6_score  a7_score  \\\n",
       "0       NaN       NaN       NaN       NaN       NaN       NaN       NaN   \n",
       "1       1.0       1.0       1.0       1.0       0.0       0.0       1.0   \n",
       "2       1.0       1.0       0.0       1.0       0.0       0.0       0.0   \n",
       "3       1.0       1.0       0.0       1.0       1.0       0.0       1.0   \n",
       "4       1.0       1.0       0.0       1.0       0.0       0.0       1.0   \n",
       "\n",
       "   a8_score  a9_score  a10_score   age  gender       ethnicity  jaundice  \\\n",
       "0       NaN       NaN        NaN   NaN       2         unknown         1   \n",
       "1       1.0       0.0        0.0  26.0       0  white-european         0   \n",
       "2       1.0       0.0        1.0  24.0       1          latino         0   \n",
       "3       1.0       1.0        1.0  27.0       1          latino         1   \n",
       "4       1.0       0.0        1.0  35.0       0  white-european         0   \n",
       "\n",
       "   autism country_of_res  used_app_before relation  decision_class  \n",
       "0       1            nan                1  unknown               1  \n",
       "1       0  united states                0     self               0  \n",
       "2       1         brazil                0     self               0  \n",
       "3       1          spain                0   parent               1  \n",
       "4       1  united states                0     self               0  "
      ]
     },
     "execution_count": 49,
     "metadata": {},
     "output_type": "execute_result"
    }
   ],
   "source": [
    "data.head()"
   ]
  },
  {
   "cell_type": "markdown",
   "metadata": {
    "_uuid": "077f73a243569b104c40aaaa53268f73e3b6f524"
   },
   "source": [
    "### PATIENTS "
   ]
  },
  {
   "cell_type": "code",
   "execution_count": 50,
   "metadata": {
    "_uuid": "c1d5fb73964612151dbef3477784708c23c4f671"
   },
   "outputs": [
    {
     "data": {
      "text/plain": [
       "(383.0, 17.0)"
      ]
     },
     "execution_count": 50,
     "metadata": {},
     "output_type": "execute_result"
    }
   ],
   "source": [
    "data.age.max(), data.age.min()"
   ]
  },
  {
   "cell_type": "code",
   "execution_count": 51,
   "metadata": {
    "_uuid": "baf13216ec5cc4e3b537292c3e2e69e2ef35a138"
   },
   "outputs": [
    {
     "name": "stdout",
     "output_type": "stream",
     "text": [
      "The oldest patient: 383.0 years.\n",
      "The youngest patient: 17.0 years.\n",
      "Average age: 29.698005698005698 years.\n",
      "Median age: 27.0 years.\n"
     ]
    }
   ],
   "source": [
    "print('The oldest patient: {} years.'.format(data.age.max()))\n",
    "print('The youngest patient: {} years.'.format(data.age.min()))\n",
    "print('Average age: {} years.'.format(data.age.mean()))\n",
    "print('Median age: {} years.'.format(data.age.median(skipna=True)))"
   ]
  },
  {
   "cell_type": "code",
   "execution_count": 52,
   "metadata": {
    "_uuid": "04238fc72703be9fbf7b82f241642e4a1c423f6c"
   },
   "outputs": [
    {
     "data": {
      "text/html": [
       "<div>\n",
       "<style scoped>\n",
       "    .dataframe tbody tr th:only-of-type {\n",
       "        vertical-align: middle;\n",
       "    }\n",
       "\n",
       "    .dataframe tbody tr th {\n",
       "        vertical-align: top;\n",
       "    }\n",
       "\n",
       "    .dataframe thead th {\n",
       "        text-align: right;\n",
       "    }\n",
       "</style>\n",
       "<table border=\"1\" class=\"dataframe\">\n",
       "  <thead>\n",
       "    <tr style=\"text-align: right;\">\n",
       "      <th></th>\n",
       "      <th>a1_score</th>\n",
       "      <th>a2_score</th>\n",
       "      <th>a3_score</th>\n",
       "      <th>a4_score</th>\n",
       "      <th>a5_score</th>\n",
       "      <th>a6_score</th>\n",
       "      <th>a7_score</th>\n",
       "      <th>a8_score</th>\n",
       "      <th>a9_score</th>\n",
       "      <th>a10_score</th>\n",
       "      <th>age</th>\n",
       "      <th>gender</th>\n",
       "      <th>ethnicity</th>\n",
       "      <th>jaundice</th>\n",
       "      <th>autism</th>\n",
       "      <th>country_of_res</th>\n",
       "      <th>used_app_before</th>\n",
       "      <th>relation</th>\n",
       "      <th>decision_class</th>\n",
       "    </tr>\n",
       "  </thead>\n",
       "  <tbody>\n",
       "    <tr>\n",
       "      <th>53</th>\n",
       "      <td>1.0</td>\n",
       "      <td>0.0</td>\n",
       "      <td>0.0</td>\n",
       "      <td>0.0</td>\n",
       "      <td>0.0</td>\n",
       "      <td>0.0</td>\n",
       "      <td>0.0</td>\n",
       "      <td>0.0</td>\n",
       "      <td>0.0</td>\n",
       "      <td>0.0</td>\n",
       "      <td>383.0</td>\n",
       "      <td>0</td>\n",
       "      <td>pasifika</td>\n",
       "      <td>0</td>\n",
       "      <td>0</td>\n",
       "      <td>new zealand</td>\n",
       "      <td>0</td>\n",
       "      <td>self</td>\n",
       "      <td>0</td>\n",
       "    </tr>\n",
       "  </tbody>\n",
       "</table>\n",
       "</div>"
      ],
      "text/plain": [
       "    a1_score  a2_score  a3_score  a4_score  a5_score  a6_score  a7_score  \\\n",
       "53       1.0       0.0       0.0       0.0       0.0       0.0       0.0   \n",
       "\n",
       "    a8_score  a9_score  a10_score    age  gender ethnicity  jaundice  autism  \\\n",
       "53       0.0       0.0        0.0  383.0       0  pasifika         0       0   \n",
       "\n",
       "   country_of_res  used_app_before relation  decision_class  \n",
       "53    new zealand                0     self               0  "
      ]
     },
     "execution_count": 52,
     "metadata": {},
     "output_type": "execute_result"
    }
   ],
   "source": [
    "data.loc[(data.age == 383)]"
   ]
  },
  {
   "cell_type": "markdown",
   "metadata": {
    "_uuid": "18410de435fe7ff19da65317283070e06974f165"
   },
   "source": [
    "We can either assume it's been put by a mistake and calculate mean/median value or delete that observation.\n",
    "\n",
    "Here I will calculate a median value."
   ]
  },
  {
   "cell_type": "code",
   "execution_count": 53,
   "metadata": {
    "_uuid": "1de627dd52ad21922e096f996aa85d3469f7d345"
   },
   "outputs": [
    {
     "data": {
      "text/plain": [
       "27.0"
      ]
     },
     "execution_count": 53,
     "metadata": {},
     "output_type": "execute_result"
    }
   ],
   "source": [
    "data.age.median()"
   ]
  },
  {
   "cell_type": "code",
   "execution_count": 54,
   "metadata": {
    "_uuid": "598c0fb191144bae97d0d7c365560a46505222c3"
   },
   "outputs": [],
   "source": [
    "data.age.replace(data.age.max(), data.age.median(), inplace=True)"
   ]
  },
  {
   "cell_type": "code",
   "execution_count": 55,
   "metadata": {
    "_uuid": "96926270292bb9813bc1139a69552fd4f4bc2777"
   },
   "outputs": [
    {
     "data": {
      "image/png": "[encoded data removed]",
      "text/plain": [
       "<Figure size 1080x576 with 1 Axes>"
      ]
     },
     "metadata": {
      "needs_background": "light"
     },
     "output_type": "display_data"
    }
   ],
   "source": [
    "plt.figure(figsize=(15,8))\n",
    "\n",
    "sns.kdeplot(\n",
    "    data.age[data.decision_class == 1], \n",
    "    color=\"darkturquoise\", \n",
    "    shade=True\n",
    ")\n",
    "\n",
    "sns.kdeplot(\n",
    "    data.age[data.decision_class == 0], \n",
    "    color=\"lightcoral\", \n",
    "    shade=True\n",
    ")\n",
    "\n",
    "plt.legend(['ASD', 'NOT ASD'])\n",
    "plt.title('age vs decision_class')\n",
    "plt.xlim(data.age.min() - 10, data.age.max() + 10)\n",
    "plt.show()"
   ]
  },
  {
   "cell_type": "code",
   "execution_count": 56,
   "metadata": {
    "_uuid": "a512b209e1fddea568bd8be2e59f88ca6ab3a3d8"
   },
   "outputs": [
    {
     "data": {
      "text/plain": [
       "0    515\n",
       "1    190\n",
       "Name: decision_class, dtype: int64"
      ]
     },
     "execution_count": 56,
     "metadata": {},
     "output_type": "execute_result"
    }
   ],
   "source": [
    "data.decision_class.value_counts()"
   ]
  },
  {
   "cell_type": "code",
   "execution_count": 57,
   "metadata": {
    "_uuid": "33831923a65ae568dd3b52cb608368a2fa9db288"
   },
   "outputs": [
    {
     "data": {
      "text/plain": [
       "0    103\n",
       "1     86\n",
       "2      1\n",
       "Name: gender, dtype: int64"
      ]
     },
     "execution_count": 57,
     "metadata": {},
     "output_type": "execute_result"
    }
   ],
   "source": [
    "data.gender[data.decision_class == 1].value_counts()"
   ]
  },
  {
   "cell_type": "code",
   "execution_count": 58,
   "metadata": {
    "_uuid": "40c99ebb790c561db8907e2a45ad0c9ee70da92e"
   },
   "outputs": [
    {
     "data": {
      "text/plain": [
       "1    281\n",
       "0    234\n",
       "Name: gender, dtype: int64"
      ]
     },
     "execution_count": 58,
     "metadata": {},
     "output_type": "execute_result"
    }
   ],
   "source": [
    "data.gender[data.decision_class == 0].value_counts()"
   ]
  },
  {
   "cell_type": "code",
   "execution_count": 59,
   "metadata": {
    "_uuid": "ea55c3a174ed30846a3148f85e78d630690362e0"
   },
   "outputs": [
    {
     "data": {
      "text/plain": [
       "a1_score           1\n",
       "a2_score           1\n",
       "a3_score           1\n",
       "a4_score           1\n",
       "a5_score           1\n",
       "a6_score           1\n",
       "a7_score           1\n",
       "a8_score           1\n",
       "a9_score           1\n",
       "a10_score          1\n",
       "age                3\n",
       "gender             0\n",
       "ethnicity          0\n",
       "jaundice           0\n",
       "autism             0\n",
       "country_of_res     0\n",
       "used_app_before    0\n",
       "relation           0\n",
       "decision_class     0\n",
       "dtype: int64"
      ]
     },
     "execution_count": 59,
     "metadata": {},
     "output_type": "execute_result"
    }
   ],
   "source": [
    "data.isnull().sum()"
   ]
  },
  {
   "cell_type": "code",
   "execution_count": 96,
   "metadata": {},
   "outputs": [],
   "source": [
    "data['age'].fillna(data['age'].mean(),inplace=True)\n",
    "data['a1_score'].fillna(data['a1_score'].mean(),inplace=True)\n",
    "data['a2_score'].fillna(data['a2_score'].mean(),inplace=True)\n",
    "data['a3_score'].fillna(data['a3_score'].mean(),inplace=True)\n",
    "data['a4_score'].fillna(data['a4_score'].mean(),inplace=True)\n",
    "data['a5_score'].fillna(data['a5_score'].mean(),inplace=True)\n",
    "data['a6_score'].fillna(data['a6_score'].mean(),inplace=True)\n",
    "data['a7_score'].fillna(data['a7_score'].mean(),inplace=True)\n",
    "data['a8_score'].fillna(data['a8_score'].mean(),inplace=True)\n",
    "data['a9_score'].fillna(data['a9_score'].mean(),inplace=True)\n",
    "data['a10_score'].fillna(data['a10_score'].mean(),inplace=True)"
   ]
  },
  {
   "cell_type": "markdown",
   "metadata": {
    "_uuid": "d90a1aa1b8fbea83e38370e15e1984e702438f91"
   },
   "source": [
    "### MISSING VALUES IMPUTATION"
   ]
  },
  {
   "cell_type": "code",
   "execution_count": 97,
   "metadata": {
    "_uuid": "f8a19087d84a9a032fb24056ea61a2bc14b39eef"
   },
   "outputs": [],
   "source": [
    "to_update_nans_dict = {}\n",
    "\n",
    "columns = ['age']\n",
    "\n",
    "for _decision_class in [0, 1]:\n",
    "    for column in columns:\n",
    "        vals = data[data.decision_class == _decision_class][column].value_counts()\n",
    "        \n",
    "        to_update_nans_dict['{decision_class}_{column}'.format(\n",
    "            decision_class=_decision_class,\n",
    "            column=column\n",
    "        )] = vals.idxmax()"
   ]
  },
  {
   "cell_type": "code",
   "execution_count": 98,
   "metadata": {
    "_uuid": "a2c4b191b3f1bdf2d88d21861273e0ed1f8d4822"
   },
   "outputs": [
    {
     "data": {
      "text/plain": [
       "{'0_age': 21.0, '1_age': 30.0}"
      ]
     },
     "execution_count": 98,
     "metadata": {},
     "output_type": "execute_result"
    }
   ],
   "source": [
    "to_update_nans_dict"
   ]
  },
  {
   "cell_type": "code",
   "execution_count": 99,
   "metadata": {
    "_uuid": "0225cbb26d69a0db44017621d5f558c4915940c0"
   },
   "outputs": [],
   "source": [
    "data.iloc[62, data.columns.get_loc('age')] = to_update_nans_dict.get('0_age')"
   ]
  },
  {
   "cell_type": "code",
   "execution_count": 100,
   "metadata": {
    "_uuid": "ba6add993932672c8fe8f1d538247351e9c1f207"
   },
   "outputs": [],
   "source": [
    "data.iloc[91, data.columns.get_loc('age')] = to_update_nans_dict.get('1_age')"
   ]
  },
  {
   "cell_type": "markdown",
   "metadata": {
    "_uuid": "f7e7eb5e2021f5843a0d8d5c1404e2125382a8c0"
   },
   "source": [
    "### HEATMAP"
   ]
  },
  {
   "cell_type": "code",
   "execution_count": 101,
   "metadata": {
    "_uuid": "b08d22daac38ef4cb867368b67ddc6698c3dd9be"
   },
   "outputs": [
    {
     "data": {
      "image/png": "[encoded data removed]",
      "text/plain": [
       "<Figure size 2880x1440 with 2 Axes>"
      ]
     },
     "metadata": {
      "needs_background": "light"
     },
     "output_type": "display_data"
    }
   ],
   "source": [
    "corr = data.corr()\n",
    "\n",
    "sns.heatmap(\n",
    "    data=corr,\n",
    "    annot=True,\n",
    "    fmt='.2f',\n",
    "    linewidths=.5,\n",
    "    cmap='RdYlGn',\n",
    "    xticklabels=corr.columns.values,\n",
    "    yticklabels=corr.columns.values\n",
    ")\n",
    "\n",
    "fig = plt.gcf()\n",
    "fig.set_size_inches(40, 20)\n",
    "\n",
    "plt.show()"
   ]
  },
  {
   "cell_type": "markdown",
   "metadata": {
    "_uuid": "92a12187bc5b11b477b8fc96cada36355d31d8e0"
   },
   "source": [
    "### PREPARING DATA FOR MODEL"
   ]
  },
  {
   "cell_type": "code",
   "execution_count": 102,
   "metadata": {
    "_uuid": "4f1a73a7d3191acf9a6f401a59de5180e14705af"
   },
   "outputs": [],
   "source": [
    "feature_names = list(set(data.columns[0:-1].tolist()).difference(['country_of_res', 'relation', 'ethnicity']))\n",
    " \n",
    "X = data[feature_names].values\n",
    "\n",
    "X_new = np.hstack((\n",
    "    X, \n",
    "    binarized_country_of_res_matrix_data,\n",
    "    binarized_ethnicity_matrix_data,\n",
    "    binarized_result_matrix_data,\n",
    "))\n",
    "                   \n",
    "y = data.decision_class"
   ]
  },
  {
   "cell_type": "code",
   "execution_count": 103,
   "metadata": {
    "_uuid": "9475a8d39d06358c545e7abace6e3067db25c539"
   },
   "outputs": [
    {
     "data": {
      "text/plain": [
       "((705, 100), (705,))"
      ]
     },
     "execution_count": 103,
     "metadata": {},
     "output_type": "execute_result"
    }
   ],
   "source": [
    "X_new.shape, y.shape"
   ]
  },
  {
   "cell_type": "code",
   "execution_count": 104,
   "metadata": {
    "_uuid": "653f415ca99a91b84e75a3b4efc4e20dd4337087"
   },
   "outputs": [],
   "source": [
    "X_train, X_test, y_train, y_test = train_test_split(\n",
    "    X_new,\n",
    "    y,\n",
    "    random_state=42,\n",
    "    test_size=0.2\n",
    ")"
   ]
  },
  {
   "cell_type": "code",
   "execution_count": 105,
   "metadata": {
    "_uuid": "23abfd1422ac4530200b4d1be0d86f4bf8865842"
   },
   "outputs": [],
   "source": [
    "log_reg = LogisticRegression(\n",
    "    C=1,\n",
    "    penalty='l1',\n",
    "    solver='liblinear',\n",
    "    random_state=42,\n",
    "    multi_class='ovr'\n",
    ")"
   ]
  },
  {
   "cell_type": "code",
   "execution_count": 106,
   "metadata": {
    "_uuid": "67474554d880b3a7c6ab6718f743eb1fa044b30d"
   },
   "outputs": [
    {
     "data": {
      "text/plain": [
       "LogisticRegression(C=1, multi_class='ovr', penalty='l1', random_state=42,\n",
       "                   solver='liblinear')"
      ]
     },
     "execution_count": 106,
     "metadata": {},
     "output_type": "execute_result"
    }
   ],
   "source": [
    "log_reg.fit(X_train, y_train)"
   ]
  },
  {
   "cell_type": "code",
   "execution_count": 107,
   "metadata": {
    "_uuid": "55a26bc8ee8c34440a08aa6259261300fb1d7a5d"
   },
   "outputs": [],
   "source": [
    "log_reg_predict = log_reg.predict(X_test)"
   ]
  },
  {
   "cell_type": "code",
   "execution_count": 108,
   "metadata": {
    "_uuid": "d7091d8b7e67ce91a58e140076e26262297f749e"
   },
   "outputs": [
    {
     "data": {
      "text/plain": [
       "1.0"
      ]
     },
     "execution_count": 108,
     "metadata": {},
     "output_type": "execute_result"
    }
   ],
   "source": [
    "log_reg.score(X_test, y_test)"
   ]
  },
  {
   "cell_type": "code",
   "execution_count": 109,
   "metadata": {
    "_uuid": "77cdf193e68be4868370aa6df73fcf53598ecc94"
   },
   "outputs": [],
   "source": [
    "preds = log_reg.predict(X_test)"
   ]
  },
  {
   "cell_type": "code",
   "execution_count": 110,
   "metadata": {
    "_uuid": "cfb1a27971fd246c5f45a89f0de894f38233763b"
   },
   "outputs": [],
   "source": [
    "log_reg_predict_proba = log_reg.predict_proba(X_test)[:, 1]"
   ]
  },
  {
   "cell_type": "code",
   "execution_count": 111,
   "metadata": {
    "_uuid": "6b90b5cf2f73e29ac7291c0dc8c8b40a65f5957b"
   },
   "outputs": [
    {
     "name": "stdout",
     "output_type": "stream",
     "text": [
      "\n",
      "Logistic Regression Accuracy: 100.00%\n",
      "Logistic Regression AUC: 100.00%\n",
      "Logistic Regression Classification report:\n",
      "\n",
      "               precision    recall  f1-score   support\n",
      "\n",
      "           0       1.00      1.00      1.00        95\n",
      "           1       1.00      1.00      1.00        46\n",
      "\n",
      "    accuracy                           1.00       141\n",
      "   macro avg       1.00      1.00      1.00       141\n",
      "weighted avg       1.00      1.00      1.00       141\n",
      "\n"
     ]
    }
   ],
   "source": [
    "print('\\nLogistic Regression Accuracy: {:.2f}%'.format(accuracy_score(y_test, log_reg_predict) * 100))\n",
    "print('Logistic Regression AUC: {:.2f}%'.format(roc_auc_score(y_test, log_reg_predict) * 100))\n",
    "print('Logistic Regression Classification report:\\n\\n', classification_report(y_test, log_reg_predict))"
   ]
  },
  {
   "cell_type": "code",
   "execution_count": 112,
   "metadata": {
    "_uuid": "dae17ed67cc428bb93a5adebdfb1b1c2921296ea"
   },
   "outputs": [
    {
     "name": "stdout",
     "output_type": "stream",
     "text": [
      "[[95  0]\n",
      " [ 0 46]]\n"
     ]
    }
   ],
   "source": [
    "print(confusion_matrix(y_test, preds))"
   ]
  },
  {
   "cell_type": "markdown",
   "metadata": {
    "_uuid": "b0680fb40b3230c3891f05c12a1701b77c8d5193"
   },
   "source": [
    "### ROC"
   ]
  },
  {
   "cell_type": "code",
   "execution_count": 113,
   "metadata": {
    "_uuid": "396b72dca8b4c2ecf38fd2a751f2be52a34fca75"
   },
   "outputs": [
    {
     "data": {
      "image/png": "[encoded data removed]",
      "text/plain": [
       "<Figure size 432x288 with 1 Axes>"
      ]
     },
     "metadata": {
      "needs_background": "light"
     },
     "output_type": "display_data"
    }
   ],
   "source": [
    "fpr, tpr, thresholds = roc_curve(\n",
    "    y_test, \n",
    "    log_reg_predict_proba\n",
    ")\n",
    "\n",
    "plt.plot(\n",
    "    [0, 1], \n",
    "    [0, 1], \n",
    "    'k--'\n",
    ")\n",
    "\n",
    "plt.plot(fpr, tpr)\n",
    "\n",
    "plt.xlim([0.0, 1.0])\n",
    "plt.ylim([0.0, 1.0])\n",
    "\n",
    "plt.rcParams['font.size'] = 14\n",
    "\n",
    "plt.title('ROC curve for Logistic Regression')\n",
    "plt.xlabel('False Positive Rate (1 - Specificity)')\n",
    "plt.ylabel('True Positive Rate (Sensitivity)')\n",
    "\n",
    "plt.grid(True)"
   ]
  },
  {
   "cell_type": "markdown",
   "metadata": {
    "_uuid": "3e4b5c3ebf4253344c5e87effe768e7e83a2ce01"
   },
   "source": [
    "### F1 SCORE AFTER 10-FOLD CROSS-VALIDATION"
   ]
  },
  {
   "cell_type": "code",
   "execution_count": 114,
   "metadata": {
    "_uuid": "e3744a3b1544e330070ff4f15d473638cf5742b6"
   },
   "outputs": [
    {
     "name": "stdout",
     "output_type": "stream",
     "text": [
      "Cross-validated scores: [1.         1.         1.         1.         1.         1.\n",
      " 1.         0.97297297 1.         0.97297297]\n",
      "\n",
      "              precision    recall  f1-score   support\n",
      "\n",
      "           0       1.00      1.00      1.00       515\n",
      "           1       1.00      0.99      0.99       190\n",
      "\n",
      "    accuracy                           1.00       705\n",
      "   macro avg       1.00      0.99      1.00       705\n",
      "weighted avg       1.00      1.00      1.00       705\n",
      "\n",
      "\n",
      "LogisticRegression: F1 after 10-fold cross-validation: 99.46% (+/- 0.02%)\n"
     ]
    }
   ],
   "source": [
    "kfold = StratifiedKFold(\n",
    "    n_splits=10, \n",
    "    shuffle=True, \n",
    "    random_state=42\n",
    ")\n",
    "\n",
    "predicted = cross_val_predict(\n",
    "    log_reg, \n",
    "    X_new, \n",
    "    y, \n",
    "    cv=kfold\n",
    ")\n",
    "\n",
    "scores = cross_val_score(\n",
    "    log_reg, \n",
    "    X_new, \n",
    "    y, \n",
    "    cv=kfold,\n",
    "    scoring='f1'\n",
    ")\n",
    "\n",
    "print('Cross-validated scores: {}\\n'.format(scores))\n",
    "\n",
    "print(classification_report(y, predicted))\n",
    "\n",
    "print(\"\\nLogisticRegression: F1 after 10-fold cross-validation: {:.2f}% (+/- {:.2f}%)\".format(\n",
    "    scores.mean() * 100,\n",
    "    scores.std() * 2\n",
    "))"
   ]
  },
  {
   "cell_type": "code",
   "execution_count": 115,
   "metadata": {
    "_uuid": "0ec4afa40f4e90018808f2079edbe7db6895a27c"
   },
   "outputs": [],
   "source": [
    "import pickle\n",
    "pickle.dump(log_reg,open(\"model.pkl\",\"wb\"))"
   ]
  }
 ],
 "metadata": {
  "kernelspec": {
   "display_name": "Python 3 (ipykernel)",
   "language": "python",
   "name": "python3"
  },
  "language_info": {
   "codemirror_mode": {
    "name": "ipython",
    "version": 3
   },
   "file_extension": ".py",
   "mimetype": "text/x-python",
   "name": "python",
   "nbconvert_exporter": "python",
   "pygments_lexer": "ipython3",
   "version": "3.9.12"
  }
 },
 "nbformat": 4,
 "nbformat_minor": 1
}
